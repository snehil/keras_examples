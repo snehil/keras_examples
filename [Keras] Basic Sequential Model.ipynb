{
 "cells": [
  {
   "cell_type": "code",
   "execution_count": null,
   "metadata": {
    "collapsed": true
   },
   "outputs": [],
   "source": [
    "import keras\n",
    "import numpy as np\n",
    "from keras.models     import Sequential \n",
    "from keras.layers     import Dense, Dropout, Activation \n",
    "from keras.optimizers import SGD "
   ]
  },
  {
   "cell_type": "markdown",
   "metadata": {},
   "source": [
    "Create training data using numpy.random"
   ]
  },
  {
   "cell_type": "code",
   "execution_count": 2,
   "metadata": {
    "collapsed": true
   },
   "outputs": [],
   "source": [
    "# Generate dummy data\n",
    "x_train = np.random.random((1000, 20))\n",
    "y_train = keras.utils.to_categorical(np.random.randint(10, size=(1000,1)), num_classes=10)\n",
    "x_test  = np.random.random((100,20))\n",
    "y_test  = keras.utils.to_categorical(np.random.randint(10, size=(100,1)), num_classes=10)"
   ]
  },
  {
   "cell_type": "markdown",
   "metadata": {},
   "source": [
    "Shape of training data"
   ]
  },
  {
   "cell_type": "code",
   "execution_count": 3,
   "metadata": {},
   "outputs": [
    {
     "name": "stdout",
     "output_type": "stream",
     "text": [
      "[[ 0.48027834  0.12610713  0.72592214  0.48138643  0.61631183  0.40610022\n",
      "   0.47166011  0.4881063   0.28971187  0.78275892  0.89912081  0.00604252\n",
      "   0.43446955  0.16562685  0.19081564  0.32260646  0.75340554  0.26958967\n",
      "   0.77159569  0.56625519]\n",
      " [ 0.61894966  0.76822711  0.1599481   0.74296324  0.82092842  0.18232698\n",
      "   0.59845867  0.95253996  0.40698328  0.89193717  0.57023086  0.76491116\n",
      "   0.60148485  0.92862822  0.97329943  0.00781037  0.72559057  0.91737704\n",
      "   0.22293144  0.63657899]\n",
      " [ 0.77576766  0.05289406  0.09990768  0.35174462  0.84849492  0.22778839\n",
      "   0.34400514  0.4001924   0.44944774  0.29605099  0.08806813  0.22486088\n",
      "   0.32668953  0.46219115  0.85700981  0.22295428  0.69631713  0.75599093\n",
      "   0.68054337  0.09684923]]\n"
     ]
    }
   ],
   "source": [
    "# X train\n",
    "print(x_train[:3]) #print first 3 entries. This is array slicing (getting all rows for the first 3 columns)"
   ]
  },
  {
   "cell_type": "code",
   "execution_count": 4,
   "metadata": {},
   "outputs": [
    {
     "name": "stdout",
     "output_type": "stream",
     "text": [
      "[[ 0.  0.  0.  0.  0.  1.  0.  0.  0.  0.]\n",
      " [ 0.  0.  0.  0.  1.  0.  0.  0.  0.  0.]\n",
      " [ 0.  0.  0.  0.  1.  0.  0.  0.  0.  0.]]\n"
     ]
    }
   ],
   "source": [
    "# Y train (This is a one hot encoded vector for each target class)\n",
    "print(y_train[:3])"
   ]
  },
  {
   "cell_type": "code",
   "execution_count": 6,
   "metadata": {},
   "outputs": [
    {
     "name": "stdout",
     "output_type": "stream",
     "text": [
      "Epoch 1/20\n",
      "1000/1000 [==============================] - 0s - loss: 2.3704 - acc: 0.1080     \n",
      "Epoch 2/20\n",
      "1000/1000 [==============================] - 0s - loss: 2.3445 - acc: 0.1060     \n",
      "Epoch 3/20\n",
      "1000/1000 [==============================] - 0s - loss: 2.3157 - acc: 0.1220     \n",
      "Epoch 4/20\n",
      "1000/1000 [==============================] - 0s - loss: 2.3287 - acc: 0.1130     \n",
      "Epoch 5/20\n",
      "1000/1000 [==============================] - 0s - loss: 2.3198 - acc: 0.0940     \n",
      "Epoch 6/20\n",
      "1000/1000 [==============================] - 0s - loss: 2.3158 - acc: 0.1070     \n",
      "Epoch 7/20\n",
      "1000/1000 [==============================] - 0s - loss: 2.3019 - acc: 0.1230     \n",
      "Epoch 8/20\n",
      "1000/1000 [==============================] - 0s - loss: 2.3066 - acc: 0.1090     \n",
      "Epoch 9/20\n",
      "1000/1000 [==============================] - 0s - loss: 2.3067 - acc: 0.1130     \n",
      "Epoch 10/20\n",
      "1000/1000 [==============================] - 0s - loss: 2.3049 - acc: 0.1170     \n",
      "Epoch 11/20\n",
      "1000/1000 [==============================] - 0s - loss: 2.3087 - acc: 0.1040     \n",
      "Epoch 12/20\n",
      "1000/1000 [==============================] - 0s - loss: 2.2965 - acc: 0.1270     \n",
      "Epoch 13/20\n",
      "1000/1000 [==============================] - 0s - loss: 2.3015 - acc: 0.1130     \n",
      "Epoch 14/20\n",
      "1000/1000 [==============================] - 0s - loss: 2.3006 - acc: 0.1150     \n",
      "Epoch 15/20\n",
      "1000/1000 [==============================] - 0s - loss: 2.2984 - acc: 0.1230     \n",
      "Epoch 16/20\n",
      "1000/1000 [==============================] - 0s - loss: 2.2926 - acc: 0.1240     \n",
      "Epoch 17/20\n",
      "1000/1000 [==============================] - 0s - loss: 2.2992 - acc: 0.1130     \n",
      "Epoch 18/20\n",
      "1000/1000 [==============================] - 0s - loss: 2.2937 - acc: 0.1280     \n",
      "Epoch 19/20\n",
      "1000/1000 [==============================] - 0s - loss: 2.2995 - acc: 0.1160     \n",
      "Epoch 20/20\n",
      "1000/1000 [==============================] - 0s - loss: 2.2944 - acc: 0.1160     \n",
      "100/100 [==============================] - 0s\n"
     ]
    }
   ],
   "source": [
    "#model\n",
    "model = Sequential()\n",
    "model.add(Dense(64, activation='relu', input_dim=20))  # input_dim is required argument for the first layer\n",
    "model.add(Dropout(0.5))\n",
    "model.add(Dense(64, activation='relu'))  # input_dim is implicitly carreied forward by all layers after the first one\n",
    "model.add(Dropout(0.5))\n",
    "model.add(Dense(10, activation='softmax'))\n",
    "\n",
    "sgd = SGD(lr=0.01, decay=1e-6, momentum=0.9, nesterov=True)\n",
    "\n",
    "model.compile(loss='categorical_crossentropy', optimizer=sgd, metrics=['accuracy']) # takes in 3 arguments\n",
    "\n",
    "model.fit(x_train, y_train, epochs=20, batch_size=128) # trains the model\n",
    "score=model.evaluate(x_test, y_test, batch_size=128)\n",
    "print(score)\n",
    "print(model.summary())"
   ]
  },
  {
   "cell_type": "code",
   "execution_count": null,
   "metadata": {
    "collapsed": true
   },
   "outputs": [],
   "source": []
  }
 ],
 "metadata": {
  "anaconda-cloud": {},
  "kernelspec": {
   "display_name": "Python [conda env:tensorflow]",
   "language": "python",
   "name": "conda-env-tensorflow-py"
  },
  "language_info": {
   "codemirror_mode": {
    "name": "ipython",
    "version": 3
   },
   "file_extension": ".py",
   "mimetype": "text/x-python",
   "name": "python",
   "nbconvert_exporter": "python",
   "pygments_lexer": "ipython3",
   "version": "3.5.0"
  }
 },
 "nbformat": 4,
 "nbformat_minor": 2
}
